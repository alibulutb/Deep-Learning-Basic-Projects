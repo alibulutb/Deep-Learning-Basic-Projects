{
 "cells": [
  {
   "cell_type": "markdown",
   "metadata": {},
   "source": [
    "# Building a Recurrent Neural Network\n",
    "\n",
    "## Sentiment Analysis\n",
    "In this project, we will build a Long Short-term Memory (LSTM) neural network to solve a binary sentiment analysis problem.\n",
    "\n",
    "For this, we'll use the “IMDB Movie Review Dataset\" available on Keras. It includes 50000 highly polarized movie reviews categorized as positive or negative."
   ]
  },
  {
   "cell_type": "code",
   "execution_count": 2,
   "metadata": {
    "executionInfo": {
     "elapsed": 3064,
     "status": "ok",
     "timestamp": 1663840209808,
     "user": {
      "displayName": "Ali Bulut",
      "userId": "04708825574896480786"
     },
     "user_tz": -180
    },
    "id": "rEy4d4AfmaqK"
   },
   "outputs": [],
   "source": [
    "# Import TensorFlow\n",
    "import tensorflow as tf\n",
    "# Import Numpy and Matplotlib\n",
    "import numpy as np\n",
    "import matplotlib.pyplot as plt"
   ]
  },
  {
   "cell_type": "code",
   "execution_count": 3,
   "metadata": {
    "colab": {
     "base_uri": "https://localhost:8080/"
    },
    "executionInfo": {
     "elapsed": 4038,
     "status": "ok",
     "timestamp": 1663840220636,
     "user": {
      "displayName": "Ali Bulut",
      "userId": "04708825574896480786"
     },
     "user_tz": -180
    },
    "id": "rBAi9oN5mZnL",
    "outputId": "b851af97-dafb-4603-a7c5-bd4d8a34e650"
   },
   "outputs": [
    {
     "name": "stdout",
     "output_type": "stream",
     "text": [
      "Downloading data from https://storage.googleapis.com/tensorflow/tf-keras-datasets/imdb.npz\n",
      "17465344/17464789 [==============================] - 0s 0us/step\n",
      "17473536/17464789 [==============================] - 0s 0us/step\n"
     ]
    }
   ],
   "source": [
    "# Download the IMDB dataset included in Keras\n",
    "# Set the parameter num_words to 10000\n",
    "(X_train, y_train), (X_test, y_test) = tf.keras.datasets.imdb.load_data(num_words=10000)"
   ]
  },
  {
   "cell_type": "code",
   "execution_count": 4,
   "metadata": {
    "colab": {
     "base_uri": "https://localhost:8080/"
    },
    "executionInfo": {
     "elapsed": 296,
     "status": "ok",
     "timestamp": 1663840228526,
     "user": {
      "displayName": "Ali Bulut",
      "userId": "04708825574896480786"
     },
     "user_tz": -180
    },
    "id": "shCxloD8makA",
    "outputId": "9b823100-fcb7-4649-9fff-2668975d351a"
   },
   "outputs": [
    {
     "name": "stdout",
     "output_type": "stream",
     "text": [
      "[1, 14, 22, 16, 43, 530, 973, 1622, 1385, 65, 458, 4468, 66, 3941, 4, 173, 36, 256, 5, 25, 100, 43, 838, 112, 50, 670, 2, 9, 35, 480, 284, 5, 150, 4, 172, 112, 167, 2, 336, 385, 39, 4, 172, 4536, 1111, 17, 546, 38, 13, 447, 4, 192, 50, 16, 6, 147, 2025, 19, 14, 22, 4, 1920, 4613, 469, 4, 22, 71, 87, 12, 16, 43, 530, 38, 76, 15, 13, 1247, 4, 22, 17, 515, 17, 12, 16, 626, 18, 2, 5, 62, 386, 12, 8, 316, 8, 106, 5, 4, 2223, 5244, 16, 480, 66, 3785, 33, 4, 130, 12, 16, 38, 619, 5, 25, 124, 51, 36, 135, 48, 25, 1415, 33, 6, 22, 12, 215, 28, 77, 52, 5, 14, 407, 16, 82, 2, 8, 4, 107, 117, 5952, 15, 256, 4, 2, 7, 3766, 5, 723, 36, 71, 43, 530, 476, 26, 400, 317, 46, 7, 4, 2, 1029, 13, 104, 88, 4, 381, 15, 297, 98, 32, 2071, 56, 26, 141, 6, 194, 7486, 18, 4, 226, 22, 21, 134, 476, 26, 480, 5, 144, 30, 5535, 18, 51, 36, 28, 224, 92, 25, 104, 4, 226, 65, 16, 38, 1334, 88, 12, 16, 283, 5, 16, 4472, 113, 103, 32, 15, 16, 5345, 19, 178, 32]\n"
     ]
    }
   ],
   "source": [
    "# Print a sample\n",
    "print(X_train[0])"
   ]
  },
  {
   "cell_type": "code",
   "execution_count": 5,
   "metadata": {
    "colab": {
     "base_uri": "https://localhost:8080/"
    },
    "executionInfo": {
     "elapsed": 296,
     "status": "ok",
     "timestamp": 1663840233582,
     "user": {
      "displayName": "Ali Bulut",
      "userId": "04708825574896480786"
     },
     "user_tz": -180
    },
    "id": "xISp5OR4mal-",
    "outputId": "4133abc3-819f-4afa-db78-4e9cedf6df87"
   },
   "outputs": [
    {
     "name": "stdout",
     "output_type": "stream",
     "text": [
      "X_train: 25000\n",
      "X_test: 25000\n"
     ]
    }
   ],
   "source": [
    "# Print the number of samples\n",
    "print(\"X_train:\", len(X_train))\n",
    "print(\"X_test:\", len(X_test))"
   ]
  },
  {
   "cell_type": "code",
   "execution_count": 6,
   "metadata": {
    "executionInfo": {
     "elapsed": 272,
     "status": "ok",
     "timestamp": 1663840239588,
     "user": {
      "displayName": "Ali Bulut",
      "userId": "04708825574896480786"
     },
     "user_tz": -180
    },
    "id": "8mSMHT4umaoF"
   },
   "outputs": [],
   "source": [
    "# Concatenate X_train and X_test and assing it to a variable X\n",
    "X = np.concatenate((X_train, X_test), axis=0)\n",
    "\n",
    "# Concatenate y_train and y_test and assing it to a variable y\n",
    "y = np.concatenate((y_train, y_test), axis=0)"
   ]
  },
  {
   "cell_type": "code",
   "execution_count": 7,
   "metadata": {
    "executionInfo": {
     "elapsed": 922,
     "status": "ok",
     "timestamp": 1663840245678,
     "user": {
      "displayName": "Ali Bulut",
      "userId": "04708825574896480786"
     },
     "user_tz": -180
    },
    "id": "-PaYsZGHmasS"
   },
   "outputs": [],
   "source": [
    "# Pad all reviews in the X dataset to the length maxlen=1024\n",
    "X = tf.keras.preprocessing.sequence.pad_sequences(X, maxlen=1024)"
   ]
  },
  {
   "cell_type": "code",
   "execution_count": 8,
   "metadata": {
    "executionInfo": {
     "elapsed": 3,
     "status": "ok",
     "timestamp": 1663840252891,
     "user": {
      "displayName": "Ali Bulut",
      "userId": "04708825574896480786"
     },
     "user_tz": -180
    },
    "id": "hCBABxqmmauO"
   },
   "outputs": [],
   "source": [
    "# Create the training datasets\n",
    "X_train = X[:40000]\n",
    "y_train = y[:40000]\n",
    "\n",
    "# Create the validation datasets\n",
    "X_val = X[40000:45000]\n",
    "y_val = y[40000:45000]\n",
    "\n",
    "# Create the test datasets\n",
    "X_test = X[45000:50000]\n",
    "y_test = y[45000:50000]"
   ]
  },
  {
   "cell_type": "code",
   "execution_count": 9,
   "metadata": {
    "colab": {
     "base_uri": "https://localhost:8080/"
    },
    "executionInfo": {
     "elapsed": 506,
     "status": "ok",
     "timestamp": 1663840260448,
     "user": {
      "displayName": "Ali Bulut",
      "userId": "04708825574896480786"
     },
     "user_tz": -180
    },
    "id": "k0IAtAzmmawQ",
    "outputId": "628a3c5c-ec13-4511-c450-a353b1a9d420"
   },
   "outputs": [
    {
     "name": "stdout",
     "output_type": "stream",
     "text": [
      "X_train: 40000\n",
      "y_train: 40000\n",
      "X_val: 5000\n",
      "y_val: 5000\n",
      "X_test: 5000\n",
      "y_test: 5000\n"
     ]
    }
   ],
   "source": [
    "# Print the number of samples\n",
    "print(\"X_train:\", len(X_train))\n",
    "print(\"y_train:\", len(y_train))\n",
    "print(\"X_val:\", len(X_val))\n",
    "print(\"y_val:\", len(y_val))\n",
    "print(\"X_test:\", len(X_test))\n",
    "print(\"y_test:\", len(y_test))"
   ]
  },
  {
   "cell_type": "code",
   "execution_count": 10,
   "metadata": {
    "executionInfo": {
     "elapsed": 2402,
     "status": "ok",
     "timestamp": 1663840270000,
     "user": {
      "displayName": "Ali Bulut",
      "userId": "04708825574896480786"
     },
     "user_tz": -180
    },
    "id": "aQp-RBBtmayS"
   },
   "outputs": [],
   "source": [
    "# Create a model object\n",
    "model = tf.keras.Sequential()"
   ]
  },
  {
   "cell_type": "code",
   "execution_count": 11,
   "metadata": {
    "executionInfo": {
     "elapsed": 545,
     "status": "ok",
     "timestamp": 1663840273925,
     "user": {
      "displayName": "Ali Bulut",
      "userId": "04708825574896480786"
     },
     "user_tz": -180
    },
    "id": "JKtv53o1ma0V"
   },
   "outputs": [],
   "source": [
    "# Add an embedding layer and a dropout\n",
    "model.add(tf.keras.layers.Embedding(input_dim=10000, output_dim=256))\n",
    "model.add(tf.keras.layers.Dropout(0.7))"
   ]
  },
  {
   "cell_type": "code",
   "execution_count": 12,
   "metadata": {
    "executionInfo": {
     "elapsed": 639,
     "status": "ok",
     "timestamp": 1663840278958,
     "user": {
      "displayName": "Ali Bulut",
      "userId": "04708825574896480786"
     },
     "user_tz": -180
    },
    "id": "SM-C_jTpma2a"
   },
   "outputs": [],
   "source": [
    "# Add a LSTM layer with dropout\n",
    "model.add(tf.keras.layers.LSTM(256))\n",
    "model.add(tf.keras.layers.Dropout(0.7))\n",
    "\n",
    "# Add a Dense layer with dropout\n",
    "model.add(tf.keras.layers.Dense(128, activation=\"relu\"))\n",
    "model.add(tf.keras.layers.Dropout(0.7))"
   ]
  },
  {
   "cell_type": "code",
   "execution_count": 13,
   "metadata": {
    "executionInfo": {
     "elapsed": 296,
     "status": "ok",
     "timestamp": 1663840283051,
     "user": {
      "displayName": "Ali Bulut",
      "userId": "04708825574896480786"
     },
     "user_tz": -180
    },
    "id": "-cJmzKk0ma4f"
   },
   "outputs": [],
   "source": [
    "# Add the output layer\n",
    "model.add(tf.keras.layers.Dense(1, activation=\"sigmoid\"))"
   ]
  },
  {
   "cell_type": "code",
   "execution_count": 14,
   "metadata": {
    "executionInfo": {
     "elapsed": 283,
     "status": "ok",
     "timestamp": 1663840290072,
     "user": {
      "displayName": "Ali Bulut",
      "userId": "04708825574896480786"
     },
     "user_tz": -180
    },
    "id": "j9LieZjema6f"
   },
   "outputs": [],
   "source": [
    "# Compile the model\n",
    "model.compile(optimizer='adam',\n",
    "              loss='binary_crossentropy',\n",
    "              metrics=['accuracy'])"
   ]
  },
  {
   "cell_type": "code",
   "execution_count": 15,
   "metadata": {
    "colab": {
     "base_uri": "https://localhost:8080/"
    },
    "executionInfo": {
     "elapsed": 443748,
     "status": "ok",
     "timestamp": 1663840739724,
     "user": {
      "displayName": "Ali Bulut",
      "userId": "04708825574896480786"
     },
     "user_tz": -180
    },
    "id": "nkGnANmtma8f",
    "outputId": "8a9e71c5-819b-4207-a415-ea8273a10b4e"
   },
   "outputs": [
    {
     "name": "stdout",
     "output_type": "stream",
     "text": [
      "Epoch 1/5\n",
      "1250/1250 [==============================] - 93s 69ms/step - loss: 0.5122 - accuracy: 0.7471 - val_loss: 0.4028 - val_accuracy: 0.8392\n",
      "Epoch 2/5\n",
      "1250/1250 [==============================] - 88s 70ms/step - loss: 0.3381 - accuracy: 0.8694 - val_loss: 0.3000 - val_accuracy: 0.8812\n",
      "Epoch 3/5\n",
      "1250/1250 [==============================] - 87s 70ms/step - loss: 0.2952 - accuracy: 0.8910 - val_loss: 0.2705 - val_accuracy: 0.8934\n",
      "Epoch 4/5\n",
      "1250/1250 [==============================] - 88s 70ms/step - loss: 0.2830 - accuracy: 0.8942 - val_loss: 0.3526 - val_accuracy: 0.8406\n",
      "Epoch 5/5\n",
      "1250/1250 [==============================] - 87s 70ms/step - loss: 0.2007 - accuracy: 0.9275 - val_loss: 0.2474 - val_accuracy: 0.9016\n"
     ]
    }
   ],
   "source": [
    "# Train the model for 5 epochs\n",
    "results = model.fit(X_train, y_train,\n",
    "                    epochs=5, \n",
    "                    validation_data=(X_val, y_val))"
   ]
  },
  {
   "cell_type": "code",
   "execution_count": 18,
   "metadata": {
    "colab": {
     "base_uri": "https://localhost:8080/",
     "height": 279
    },
    "executionInfo": {
     "elapsed": 327,
     "status": "ok",
     "timestamp": 1663840867089,
     "user": {
      "displayName": "Ali Bulut",
      "userId": "04708825574896480786"
     },
     "user_tz": -180
    },
    "id": "5_WqjVT4ma-n",
    "outputId": "2ea59e5d-0500-47e8-dc7e-584b71debf2a"
   },
   "outputs": [
    {
     "data": {
      "image/png": "[encoded data removed]",
      "text/plain": [
       "<Figure size 432x288 with 1 Axes>"
      ]
     },
     "metadata": {
      "needs_background": "light"
     },
     "output_type": "display_data"
    }
   ],
   "source": [
    "# Plot the the training loss\n",
    "plt.plot(results.history[\"loss\"], label='Train')\n",
    "\n",
    "# Plot the the validation loss\n",
    "plt.plot(results.history[\"val_loss\"], label='Validation')\n",
    "\n",
    "# Name the x and y axises\n",
    "plt.xlabel(\"Epoch\")\n",
    "plt.ylabel(\"Loss\")\n",
    "\n",
    "# Put legend table\n",
    "plt.legend()\n",
    "\n",
    "# Show the plot\n",
    "plt.show()"
   ]
  },
  {
   "cell_type": "code",
   "execution_count": 19,
   "metadata": {
    "colab": {
     "base_uri": "https://localhost:8080/",
     "height": 279
    },
    "executionInfo": {
     "elapsed": 314,
     "status": "ok",
     "timestamp": 1663840950759,
     "user": {
      "displayName": "Ali Bulut",
      "userId": "04708825574896480786"
     },
     "user_tz": -180
    },
    "id": "s5qL_F5LnC8l",
    "outputId": "9ec83504-5bec-46da-9ebe-6d6772dd7b99"
   },
   "outputs": [
    {
     "data": {
      "image/png": "[encoded data removed]",
      "text/plain": [
       "<Figure size 432x288 with 1 Axes>"
      ]
     },
     "metadata": {
      "needs_background": "light"
     },
     "output_type": "display_data"
    }
   ],
   "source": [
    "# Plot the the training accuracy\n",
    "plt.plot(results.history[\"accuracy\"], label='Train')\n",
    "\n",
    "# Plot the the validation accuracy\n",
    "plt.plot(results.history[\"val_accuracy\"], label='Validation')\n",
    "\n",
    "# Name the x and y axises\n",
    "plt.xlabel(\"Epoch\")\n",
    "plt.ylabel(\"Accuracy\")\n",
    "\n",
    "# Put legend table\n",
    "plt.legend()\n",
    "\n",
    "# Show the plot\n",
    "plt.show()"
   ]
  },
  {
   "cell_type": "code",
   "execution_count": 20,
   "metadata": {
    "colab": {
     "base_uri": "https://localhost:8080/"
    },
    "executionInfo": {
     "elapsed": 5443,
     "status": "ok",
     "timestamp": 1663840970946,
     "user": {
      "displayName": "Ali Bulut",
      "userId": "04708825574896480786"
     },
     "user_tz": -180
    },
    "id": "FettHlqTnC-n",
    "outputId": "6618688f-a682-4898-9a79-311dab1c5fee"
   },
   "outputs": [
    {
     "name": "stdout",
     "output_type": "stream",
     "text": [
      "157/157 [==============================] - 4s 26ms/step - loss: 0.2505 - accuracy: 0.9012\n"
     ]
    },
    {
     "data": {
      "text/plain": [
       "[0.25051987171173096, 0.901199996471405]"
      ]
     },
     "execution_count": 20,
     "metadata": {},
     "output_type": "execute_result"
    }
   ],
   "source": [
    "# Evaluate the performance\n",
    "model.evaluate(X_test, y_test)"
   ]
  },
  {
   "cell_type": "code",
   "execution_count": 21,
   "metadata": {
    "colab": {
     "base_uri": "https://localhost:8080/"
    },
    "executionInfo": {
     "elapsed": 294,
     "status": "ok",
     "timestamp": 1663841176871,
     "user": {
      "displayName": "Ali Bulut",
      "userId": "04708825574896480786"
     },
     "user_tz": -180
    },
    "id": "QHlWF6XpnDA2",
    "outputId": "a6f47dd7-4114-4727-b253-dbbf6bf71508"
   },
   "outputs": [
    {
     "name": "stdout",
     "output_type": "stream",
     "text": [
      "Label: 0 | Prediction: [[0.02328568]]\n"
     ]
    }
   ],
   "source": [
    "# Make prediction on the reshaped sample\n",
    "prediction_result = model.predict(X_test[789].reshape(1,1024))\n",
    "print(f\"Label: {y_test[789]} | Prediction: {prediction_result}\")"
   ]
  }
 ],
 "metadata": {
  "accelerator": "GPU",
  "colab": {
   "authorship_tag": "ABX9TyO1ujGV2BD0L/7/pIG4fvFO",
   "provenance": []
  },
  "kernelspec": {
   "display_name": "Python 3 (ipykernel)",
   "language": "python",
   "name": "python3"
  },
  "language_info": {
   "codemirror_mode": {
    "name": "ipython",
    "version": 3
   },
   "file_extension": ".py",
   "mimetype": "text/x-python",
   "name": "python",
   "nbconvert_exporter": "python",
   "pygments_lexer": "ipython3",
   "version": "3.10.6"
  }
 },
 "nbformat": 4,
 "nbformat_minor": 1
}
