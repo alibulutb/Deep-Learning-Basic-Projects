{
 "cells": [
  {
   "cell_type": "markdown",
   "id": "d9dbda90",
   "metadata": {},
   "source": [
    "# 1- Classification Numbers Using MNIST Dataset "
   ]
  },
  {
   "cell_type": "markdown",
   "id": "20209a23",
   "metadata": {},
   "source": [
    "## Fetch MNIST Dataset"
   ]
  },
  {
   "cell_type": "code",
   "execution_count": 1,
   "id": "204e591a",
   "metadata": {},
   "outputs": [],
   "source": [
    "# import libraries\n",
    "import numpy as np\n",
    "import pandas as pd\n",
    "import seaborn as sns\n",
    "import matplotlib.pyplot as plt\n",
    "\n",
    "# ignore warnings\n",
    "import warnings\n",
    "warnings.filterwarnings(\"ignore\")\n",
    "\n",
    "# for train test split\n",
    "from sklearn.model_selection import train_test_split"
   ]
  },
  {
   "cell_type": "code",
   "execution_count": 2,
   "id": "2d878c24",
   "metadata": {},
   "outputs": [
    {
     "data": {
      "text/html": [
       "<div>\n",
       "<style scoped>\n",
       "    .dataframe tbody tr th:only-of-type {\n",
       "        vertical-align: middle;\n",
       "    }\n",
       "\n",
       "    .dataframe tbody tr th {\n",
       "        vertical-align: top;\n",
       "    }\n",
       "\n",
       "    .dataframe thead th {\n",
       "        text-align: right;\n",
       "    }\n",
       "</style>\n",
       "<table border=\"1\" class=\"dataframe\">\n",
       "  <thead>\n",
       "    <tr style=\"text-align: right;\">\n",
       "      <th></th>\n",
       "      <th>label</th>\n",
       "      <th>1x1</th>\n",
       "      <th>1x2</th>\n",
       "      <th>1x3</th>\n",
       "      <th>1x4</th>\n",
       "      <th>1x5</th>\n",
       "      <th>1x6</th>\n",
       "      <th>1x7</th>\n",
       "      <th>1x8</th>\n",
       "      <th>1x9</th>\n",
       "      <th>...</th>\n",
       "      <th>28x19</th>\n",
       "      <th>28x20</th>\n",
       "      <th>28x21</th>\n",
       "      <th>28x22</th>\n",
       "      <th>28x23</th>\n",
       "      <th>28x24</th>\n",
       "      <th>28x25</th>\n",
       "      <th>28x26</th>\n",
       "      <th>28x27</th>\n",
       "      <th>28x28</th>\n",
       "    </tr>\n",
       "  </thead>\n",
       "  <tbody>\n",
       "    <tr>\n",
       "      <th>0</th>\n",
       "      <td>7</td>\n",
       "      <td>0</td>\n",
       "      <td>0</td>\n",
       "      <td>0</td>\n",
       "      <td>0</td>\n",
       "      <td>0</td>\n",
       "      <td>0</td>\n",
       "      <td>0</td>\n",
       "      <td>0</td>\n",
       "      <td>0</td>\n",
       "      <td>...</td>\n",
       "      <td>0</td>\n",
       "      <td>0</td>\n",
       "      <td>0</td>\n",
       "      <td>0</td>\n",
       "      <td>0</td>\n",
       "      <td>0</td>\n",
       "      <td>0</td>\n",
       "      <td>0</td>\n",
       "      <td>0</td>\n",
       "      <td>0</td>\n",
       "    </tr>\n",
       "    <tr>\n",
       "      <th>1</th>\n",
       "      <td>2</td>\n",
       "      <td>0</td>\n",
       "      <td>0</td>\n",
       "      <td>0</td>\n",
       "      <td>0</td>\n",
       "      <td>0</td>\n",
       "      <td>0</td>\n",
       "      <td>0</td>\n",
       "      <td>0</td>\n",
       "      <td>0</td>\n",
       "      <td>...</td>\n",
       "      <td>0</td>\n",
       "      <td>0</td>\n",
       "      <td>0</td>\n",
       "      <td>0</td>\n",
       "      <td>0</td>\n",
       "      <td>0</td>\n",
       "      <td>0</td>\n",
       "      <td>0</td>\n",
       "      <td>0</td>\n",
       "      <td>0</td>\n",
       "    </tr>\n",
       "    <tr>\n",
       "      <th>2</th>\n",
       "      <td>1</td>\n",
       "      <td>0</td>\n",
       "      <td>0</td>\n",
       "      <td>0</td>\n",
       "      <td>0</td>\n",
       "      <td>0</td>\n",
       "      <td>0</td>\n",
       "      <td>0</td>\n",
       "      <td>0</td>\n",
       "      <td>0</td>\n",
       "      <td>...</td>\n",
       "      <td>0</td>\n",
       "      <td>0</td>\n",
       "      <td>0</td>\n",
       "      <td>0</td>\n",
       "      <td>0</td>\n",
       "      <td>0</td>\n",
       "      <td>0</td>\n",
       "      <td>0</td>\n",
       "      <td>0</td>\n",
       "      <td>0</td>\n",
       "    </tr>\n",
       "    <tr>\n",
       "      <th>3</th>\n",
       "      <td>0</td>\n",
       "      <td>0</td>\n",
       "      <td>0</td>\n",
       "      <td>0</td>\n",
       "      <td>0</td>\n",
       "      <td>0</td>\n",
       "      <td>0</td>\n",
       "      <td>0</td>\n",
       "      <td>0</td>\n",
       "      <td>0</td>\n",
       "      <td>...</td>\n",
       "      <td>0</td>\n",
       "      <td>0</td>\n",
       "      <td>0</td>\n",
       "      <td>0</td>\n",
       "      <td>0</td>\n",
       "      <td>0</td>\n",
       "      <td>0</td>\n",
       "      <td>0</td>\n",
       "      <td>0</td>\n",
       "      <td>0</td>\n",
       "    </tr>\n",
       "    <tr>\n",
       "      <th>4</th>\n",
       "      <td>4</td>\n",
       "      <td>0</td>\n",
       "      <td>0</td>\n",
       "      <td>0</td>\n",
       "      <td>0</td>\n",
       "      <td>0</td>\n",
       "      <td>0</td>\n",
       "      <td>0</td>\n",
       "      <td>0</td>\n",
       "      <td>0</td>\n",
       "      <td>...</td>\n",
       "      <td>0</td>\n",
       "      <td>0</td>\n",
       "      <td>0</td>\n",
       "      <td>0</td>\n",
       "      <td>0</td>\n",
       "      <td>0</td>\n",
       "      <td>0</td>\n",
       "      <td>0</td>\n",
       "      <td>0</td>\n",
       "      <td>0</td>\n",
       "    </tr>\n",
       "    <tr>\n",
       "      <th>5</th>\n",
       "      <td>1</td>\n",
       "      <td>0</td>\n",
       "      <td>0</td>\n",
       "      <td>0</td>\n",
       "      <td>0</td>\n",
       "      <td>0</td>\n",
       "      <td>0</td>\n",
       "      <td>0</td>\n",
       "      <td>0</td>\n",
       "      <td>0</td>\n",
       "      <td>...</td>\n",
       "      <td>0</td>\n",
       "      <td>0</td>\n",
       "      <td>0</td>\n",
       "      <td>0</td>\n",
       "      <td>0</td>\n",
       "      <td>0</td>\n",
       "      <td>0</td>\n",
       "      <td>0</td>\n",
       "      <td>0</td>\n",
       "      <td>0</td>\n",
       "    </tr>\n",
       "    <tr>\n",
       "      <th>6</th>\n",
       "      <td>4</td>\n",
       "      <td>0</td>\n",
       "      <td>0</td>\n",
       "      <td>0</td>\n",
       "      <td>0</td>\n",
       "      <td>0</td>\n",
       "      <td>0</td>\n",
       "      <td>0</td>\n",
       "      <td>0</td>\n",
       "      <td>0</td>\n",
       "      <td>...</td>\n",
       "      <td>0</td>\n",
       "      <td>0</td>\n",
       "      <td>0</td>\n",
       "      <td>0</td>\n",
       "      <td>0</td>\n",
       "      <td>0</td>\n",
       "      <td>0</td>\n",
       "      <td>0</td>\n",
       "      <td>0</td>\n",
       "      <td>0</td>\n",
       "    </tr>\n",
       "  </tbody>\n",
       "</table>\n",
       "<p>7 rows × 785 columns</p>\n",
       "</div>"
      ],
      "text/plain": [
       "   label  1x1  1x2  1x3  1x4  1x5  1x6  1x7  1x8  1x9  ...  28x19  28x20  \\\n",
       "0      7    0    0    0    0    0    0    0    0    0  ...      0      0   \n",
       "1      2    0    0    0    0    0    0    0    0    0  ...      0      0   \n",
       "2      1    0    0    0    0    0    0    0    0    0  ...      0      0   \n",
       "3      0    0    0    0    0    0    0    0    0    0  ...      0      0   \n",
       "4      4    0    0    0    0    0    0    0    0    0  ...      0      0   \n",
       "5      1    0    0    0    0    0    0    0    0    0  ...      0      0   \n",
       "6      4    0    0    0    0    0    0    0    0    0  ...      0      0   \n",
       "\n",
       "   28x21  28x22  28x23  28x24  28x25  28x26  28x27  28x28  \n",
       "0      0      0      0      0      0      0      0      0  \n",
       "1      0      0      0      0      0      0      0      0  \n",
       "2      0      0      0      0      0      0      0      0  \n",
       "3      0      0      0      0      0      0      0      0  \n",
       "4      0      0      0      0      0      0      0      0  \n",
       "5      0      0      0      0      0      0      0      0  \n",
       "6      0      0      0      0      0      0      0      0  \n",
       "\n",
       "[7 rows x 785 columns]"
      ]
     },
     "execution_count": 2,
     "metadata": {},
     "output_type": "execute_result"
    }
   ],
   "source": [
    "# read the data\n",
    "test = pd.read_csv(\"mnist_test.csv\")\n",
    "train = pd.read_csv(\"mnist_train.csv\")\n",
    "\n",
    "# concatanete test and train data and make a whole dataset\n",
    "data = pd.concat([test, train], axis=0)\n",
    "data.head(7)"
   ]
  },
  {
   "cell_type": "code",
   "execution_count": 3,
   "id": "347ae600",
   "metadata": {},
   "outputs": [
    {
     "data": {
      "text/plain": [
       "(70000, 785)"
      ]
     },
     "execution_count": 3,
     "metadata": {},
     "output_type": "execute_result"
    }
   ],
   "source": [
    "# see data shape\n",
    "data.shape"
   ]
  },
  {
   "cell_type": "markdown",
   "id": "9d2b9d6c",
   "metadata": {},
   "source": [
    "## Binary Classification for '0' and '1' data Using NN "
   ]
  },
  {
   "cell_type": "code",
   "execution_count": 4,
   "id": "ea4158e6",
   "metadata": {},
   "outputs": [
    {
     "data": {
      "text/html": [
       "<div>\n",
       "<style scoped>\n",
       "    .dataframe tbody tr th:only-of-type {\n",
       "        vertical-align: middle;\n",
       "    }\n",
       "\n",
       "    .dataframe tbody tr th {\n",
       "        vertical-align: top;\n",
       "    }\n",
       "\n",
       "    .dataframe thead th {\n",
       "        text-align: right;\n",
       "    }\n",
       "</style>\n",
       "<table border=\"1\" class=\"dataframe\">\n",
       "  <thead>\n",
       "    <tr style=\"text-align: right;\">\n",
       "      <th></th>\n",
       "      <th>label</th>\n",
       "      <th>1x1</th>\n",
       "      <th>1x2</th>\n",
       "      <th>1x3</th>\n",
       "      <th>1x4</th>\n",
       "      <th>1x5</th>\n",
       "      <th>1x6</th>\n",
       "      <th>1x7</th>\n",
       "      <th>1x8</th>\n",
       "      <th>1x9</th>\n",
       "      <th>...</th>\n",
       "      <th>28x19</th>\n",
       "      <th>28x20</th>\n",
       "      <th>28x21</th>\n",
       "      <th>28x22</th>\n",
       "      <th>28x23</th>\n",
       "      <th>28x24</th>\n",
       "      <th>28x25</th>\n",
       "      <th>28x26</th>\n",
       "      <th>28x27</th>\n",
       "      <th>28x28</th>\n",
       "    </tr>\n",
       "  </thead>\n",
       "  <tbody>\n",
       "    <tr>\n",
       "      <th>3</th>\n",
       "      <td>0</td>\n",
       "      <td>0</td>\n",
       "      <td>0</td>\n",
       "      <td>0</td>\n",
       "      <td>0</td>\n",
       "      <td>0</td>\n",
       "      <td>0</td>\n",
       "      <td>0</td>\n",
       "      <td>0</td>\n",
       "      <td>0</td>\n",
       "      <td>...</td>\n",
       "      <td>0</td>\n",
       "      <td>0</td>\n",
       "      <td>0</td>\n",
       "      <td>0</td>\n",
       "      <td>0</td>\n",
       "      <td>0</td>\n",
       "      <td>0</td>\n",
       "      <td>0</td>\n",
       "      <td>0</td>\n",
       "      <td>0</td>\n",
       "    </tr>\n",
       "    <tr>\n",
       "      <th>10</th>\n",
       "      <td>0</td>\n",
       "      <td>0</td>\n",
       "      <td>0</td>\n",
       "      <td>0</td>\n",
       "      <td>0</td>\n",
       "      <td>0</td>\n",
       "      <td>0</td>\n",
       "      <td>0</td>\n",
       "      <td>0</td>\n",
       "      <td>0</td>\n",
       "      <td>...</td>\n",
       "      <td>0</td>\n",
       "      <td>0</td>\n",
       "      <td>0</td>\n",
       "      <td>0</td>\n",
       "      <td>0</td>\n",
       "      <td>0</td>\n",
       "      <td>0</td>\n",
       "      <td>0</td>\n",
       "      <td>0</td>\n",
       "      <td>0</td>\n",
       "    </tr>\n",
       "    <tr>\n",
       "      <th>13</th>\n",
       "      <td>0</td>\n",
       "      <td>0</td>\n",
       "      <td>0</td>\n",
       "      <td>0</td>\n",
       "      <td>0</td>\n",
       "      <td>0</td>\n",
       "      <td>0</td>\n",
       "      <td>0</td>\n",
       "      <td>0</td>\n",
       "      <td>0</td>\n",
       "      <td>...</td>\n",
       "      <td>0</td>\n",
       "      <td>0</td>\n",
       "      <td>0</td>\n",
       "      <td>0</td>\n",
       "      <td>0</td>\n",
       "      <td>0</td>\n",
       "      <td>0</td>\n",
       "      <td>0</td>\n",
       "      <td>0</td>\n",
       "      <td>0</td>\n",
       "    </tr>\n",
       "    <tr>\n",
       "      <th>25</th>\n",
       "      <td>0</td>\n",
       "      <td>0</td>\n",
       "      <td>0</td>\n",
       "      <td>0</td>\n",
       "      <td>0</td>\n",
       "      <td>0</td>\n",
       "      <td>0</td>\n",
       "      <td>0</td>\n",
       "      <td>0</td>\n",
       "      <td>0</td>\n",
       "      <td>...</td>\n",
       "      <td>0</td>\n",
       "      <td>0</td>\n",
       "      <td>0</td>\n",
       "      <td>0</td>\n",
       "      <td>0</td>\n",
       "      <td>0</td>\n",
       "      <td>0</td>\n",
       "      <td>0</td>\n",
       "      <td>0</td>\n",
       "      <td>0</td>\n",
       "    </tr>\n",
       "    <tr>\n",
       "      <th>28</th>\n",
       "      <td>0</td>\n",
       "      <td>0</td>\n",
       "      <td>0</td>\n",
       "      <td>0</td>\n",
       "      <td>0</td>\n",
       "      <td>0</td>\n",
       "      <td>0</td>\n",
       "      <td>0</td>\n",
       "      <td>0</td>\n",
       "      <td>0</td>\n",
       "      <td>...</td>\n",
       "      <td>0</td>\n",
       "      <td>0</td>\n",
       "      <td>0</td>\n",
       "      <td>0</td>\n",
       "      <td>0</td>\n",
       "      <td>0</td>\n",
       "      <td>0</td>\n",
       "      <td>0</td>\n",
       "      <td>0</td>\n",
       "      <td>0</td>\n",
       "    </tr>\n",
       "  </tbody>\n",
       "</table>\n",
       "<p>5 rows × 785 columns</p>\n",
       "</div>"
      ],
      "text/plain": [
       "    label  1x1  1x2  1x3  1x4  1x5  1x6  1x7  1x8  1x9  ...  28x19  28x20  \\\n",
       "3       0    0    0    0    0    0    0    0    0    0  ...      0      0   \n",
       "10      0    0    0    0    0    0    0    0    0    0  ...      0      0   \n",
       "13      0    0    0    0    0    0    0    0    0    0  ...      0      0   \n",
       "25      0    0    0    0    0    0    0    0    0    0  ...      0      0   \n",
       "28      0    0    0    0    0    0    0    0    0    0  ...      0      0   \n",
       "\n",
       "    28x21  28x22  28x23  28x24  28x25  28x26  28x27  28x28  \n",
       "3       0      0      0      0      0      0      0      0  \n",
       "10      0      0      0      0      0      0      0      0  \n",
       "13      0      0      0      0      0      0      0      0  \n",
       "25      0      0      0      0      0      0      0      0  \n",
       "28      0      0      0      0      0      0      0      0  \n",
       "\n",
       "[5 rows x 785 columns]"
      ]
     },
     "execution_count": 4,
     "metadata": {},
     "output_type": "execute_result"
    }
   ],
   "source": [
    "# get label only 0 and 1 and concatanete\n",
    "label_filter0 = 0\n",
    "label_filter1 = 1\n",
    "\n",
    "data = pd.concat([data[data[\"label\"] == label_filter0],\n",
    "                  data[data[\"label\"] == label_filter1]], axis=0)\n",
    "data.head()"
   ]
  },
  {
   "cell_type": "code",
   "execution_count": 5,
   "id": "6be64143",
   "metadata": {},
   "outputs": [
    {
     "name": "stdout",
     "output_type": "stream",
     "text": [
      "X data: (14780, 784)\n",
      "Y_data: (14780,)\n"
     ]
    }
   ],
   "source": [
    "# get label\n",
    "y_data = data[\"label\"]\n",
    "\n",
    "# create train dataset\n",
    "X_data = data.drop([\"label\"], axis=1)\n",
    "print(\"X data:\", X_data.shape)\n",
    "print(\"Y_data:\", y_data.shape)"
   ]
  },
  {
   "cell_type": "code",
   "execution_count": 6,
   "id": "a9a5ca52",
   "metadata": {},
   "outputs": [
    {
     "data": {
      "text/plain": [
       "28"
      ]
     },
     "execution_count": 6,
     "metadata": {},
     "output_type": "execute_result"
    }
   ],
   "source": [
    "# see picture size\n",
    "pic_size = int(np.sqrt(X_data.shape[1]))\n",
    "pic_size"
   ]
  },
  {
   "cell_type": "code",
   "execution_count": 7,
   "id": "959e26f6",
   "metadata": {},
   "outputs": [
    {
     "data": {
      "image/png": "[encoded data removed]",
      "text/plain": [
       "<Figure size 640x480 with 1 Axes>"
      ]
     },
     "metadata": {},
     "output_type": "display_data"
    }
   ],
   "source": [
    "# visualize one of the picture of 0\n",
    "pic1 = X_data.iloc[875].values\n",
    "pic1 = pic1.reshape((pic_size, pic_size))\n",
    "plt.imshow(pic1, cmap=\"gray\")\n",
    "plt.axis(\"off\")\n",
    "plt.show()"
   ]
  },
  {
   "cell_type": "code",
   "execution_count": 8,
   "id": "df63ab3c",
   "metadata": {},
   "outputs": [
    {
     "data": {
      "image/png": "[encoded data removed]",
      "text/plain": [
       "<Figure size 640x480 with 1 Axes>"
      ]
     },
     "metadata": {},
     "output_type": "display_data"
    }
   ],
   "source": [
    "# visualize one of the picture of 1\n",
    "pic2 = X_data.iloc[8000].values\n",
    "pic2 = pic2.reshape((pic_size, pic_size))\n",
    "plt.imshow(pic2, cmap=\"gray\")\n",
    "plt.axis(\"off\")\n",
    "plt.show()"
   ]
  },
  {
   "cell_type": "code",
   "execution_count": 9,
   "id": "e3ea55ba",
   "metadata": {},
   "outputs": [
    {
     "name": "stdout",
     "output_type": "stream",
     "text": [
      "X train: (11824, 784)\n",
      "X test: (2956, 784)\n",
      "y train: (11824,)\n",
      "y test: (2956,)\n"
     ]
    }
   ],
   "source": [
    "# split train and test dataset\n",
    "X_train, X_test, y_train, y_test = train_test_split(X_data, y_data,\n",
    "                                                    test_size=0.2,\n",
    "                                                    random_state=42)\n",
    "print(\"X train:\", X_train.shape)\n",
    "print(\"X test:\", X_test.shape)\n",
    "print(\"y train:\", y_train.shape)\n",
    "print(\"y test:\", y_test.shape)"
   ]
  },
  {
   "cell_type": "markdown",
   "id": "9cbea7b5",
   "metadata": {},
   "source": [
    "## Build a NN Model"
   ]
  },
  {
   "cell_type": "code",
   "execution_count": 10,
   "id": "e02e8d07",
   "metadata": {},
   "outputs": [
    {
     "name": "stdout",
     "output_type": "stream",
     "text": [
      "Epoch 1/5\n",
      "247/247 [==============================] - 2s 3ms/step - loss: 0.0393 - accuracy: 0.9942\n",
      "Epoch 2/5\n",
      "247/247 [==============================] - 1s 3ms/step - loss: 0.0040 - accuracy: 0.9986\n",
      "Epoch 3/5\n",
      "247/247 [==============================] - 1s 3ms/step - loss: 0.0045 - accuracy: 0.9989\n",
      "Epoch 4/5\n",
      "247/247 [==============================] - 1s 5ms/step - loss: 0.0016 - accuracy: 0.9994\n",
      "Epoch 5/5\n",
      "247/247 [==============================] - 1s 6ms/step - loss: 0.0018 - accuracy: 0.9995\n",
      "124/124 [==============================] - 1s 3ms/step - loss: 0.0058 - accuracy: 0.9987\n",
      "Epoch 1/5\n",
      "247/247 [==============================] - 2s 3ms/step - loss: 0.0397 - accuracy: 0.9944\n",
      "Epoch 2/5\n",
      "247/247 [==============================] - 1s 3ms/step - loss: 0.0051 - accuracy: 0.9985\n",
      "Epoch 3/5\n",
      "247/247 [==============================] - 1s 3ms/step - loss: 0.0025 - accuracy: 0.9991\n",
      "Epoch 4/5\n",
      "247/247 [==============================] - 1s 3ms/step - loss: 0.0030 - accuracy: 0.9986\n",
      "Epoch 5/5\n",
      "247/247 [==============================] - 1s 3ms/step - loss: 0.0021 - accuracy: 0.9992\n",
      "124/124 [==============================] - 1s 3ms/step - loss: 0.0022 - accuracy: 0.9995\n",
      "Epoch 1/5\n",
      "247/247 [==============================] - 2s 3ms/step - loss: 0.0524 - accuracy: 0.9862\n",
      "Epoch 2/5\n",
      "247/247 [==============================] - 1s 3ms/step - loss: 0.0036 - accuracy: 0.9987\n",
      "Epoch 3/5\n",
      "247/247 [==============================] - 1s 3ms/step - loss: 0.0028 - accuracy: 0.9991\n",
      "Epoch 4/5\n",
      "247/247 [==============================] - 1s 3ms/step - loss: 0.0012 - accuracy: 0.9996\n",
      "Epoch 5/5\n",
      "247/247 [==============================] - 1s 3ms/step - loss: 7.6427e-04 - accuracy: 0.9999\n",
      "124/124 [==============================] - 1s 3ms/step - loss: 0.0028 - accuracy: 0.9987\n",
      "Accuracy mean: 0.9989851514498392\n",
      "Accuracy std 0.00035876804410451873\n"
     ]
    }
   ],
   "source": [
    "# import deep learning libraries\n",
    "from tensorflow import keras\n",
    "from keras.wrappers.scikit_learn import KerasClassifier\n",
    "from sklearn.model_selection import cross_val_score\n",
    "from keras.models import Sequential\n",
    "from keras.layers import Dense\n",
    "\n",
    "# method for our model\n",
    "def classifierMethod():\n",
    "    classifier = Sequential()\n",
    "    classifier.add(Dense(units=8, kernel_initializer=\"uniform\",\n",
    "                         activation=\"relu\", input_dim=X_train.shape[1]))\n",
    "    classifier.add(Dense(units=4, kernel_initializer=\"uniform\",\n",
    "                         activation=\"relu\"))\n",
    "    classifier.add(Dense(units=1, kernel_initializer=\"uniform\",\n",
    "                         activation=\"sigmoid\"))\n",
    "    classifier.compile(optimizer=\"adam\", loss=\"binary_crossentropy\",\n",
    "                       metrics=[\"accuracy\"])\n",
    "    return classifier\n",
    "siniflandirici = KerasClassifier(build_fn=classifierMethod, epochs=5)\n",
    "dogruluk = cross_val_score(estimator=siniflandirici, X=X_train,\n",
    "                           y=y_train, cv=3)\n",
    "mean = dogruluk.mean()\n",
    "std = dogruluk.std()\n",
    "print(\"Accuracy mean:\", str(mean))\n",
    "print(\"Accuracy std\", str(std))"
   ]
  },
  {
   "cell_type": "markdown",
   "id": "80acdeab",
   "metadata": {},
   "source": [
    "## Classification All Numbers Using CNN"
   ]
  },
  {
   "cell_type": "code",
   "execution_count": 11,
   "id": "6cc67e99",
   "metadata": {},
   "outputs": [
    {
     "data": {
      "text/html": [
       "<div>\n",
       "<style scoped>\n",
       "    .dataframe tbody tr th:only-of-type {\n",
       "        vertical-align: middle;\n",
       "    }\n",
       "\n",
       "    .dataframe tbody tr th {\n",
       "        vertical-align: top;\n",
       "    }\n",
       "\n",
       "    .dataframe thead th {\n",
       "        text-align: right;\n",
       "    }\n",
       "</style>\n",
       "<table border=\"1\" class=\"dataframe\">\n",
       "  <thead>\n",
       "    <tr style=\"text-align: right;\">\n",
       "      <th></th>\n",
       "      <th>label</th>\n",
       "      <th>1x1</th>\n",
       "      <th>1x2</th>\n",
       "      <th>1x3</th>\n",
       "      <th>1x4</th>\n",
       "      <th>1x5</th>\n",
       "      <th>1x6</th>\n",
       "      <th>1x7</th>\n",
       "      <th>1x8</th>\n",
       "      <th>1x9</th>\n",
       "      <th>...</th>\n",
       "      <th>28x19</th>\n",
       "      <th>28x20</th>\n",
       "      <th>28x21</th>\n",
       "      <th>28x22</th>\n",
       "      <th>28x23</th>\n",
       "      <th>28x24</th>\n",
       "      <th>28x25</th>\n",
       "      <th>28x26</th>\n",
       "      <th>28x27</th>\n",
       "      <th>28x28</th>\n",
       "    </tr>\n",
       "  </thead>\n",
       "  <tbody>\n",
       "    <tr>\n",
       "      <th>0</th>\n",
       "      <td>7</td>\n",
       "      <td>0</td>\n",
       "      <td>0</td>\n",
       "      <td>0</td>\n",
       "      <td>0</td>\n",
       "      <td>0</td>\n",
       "      <td>0</td>\n",
       "      <td>0</td>\n",
       "      <td>0</td>\n",
       "      <td>0</td>\n",
       "      <td>...</td>\n",
       "      <td>0</td>\n",
       "      <td>0</td>\n",
       "      <td>0</td>\n",
       "      <td>0</td>\n",
       "      <td>0</td>\n",
       "      <td>0</td>\n",
       "      <td>0</td>\n",
       "      <td>0</td>\n",
       "      <td>0</td>\n",
       "      <td>0</td>\n",
       "    </tr>\n",
       "    <tr>\n",
       "      <th>1</th>\n",
       "      <td>2</td>\n",
       "      <td>0</td>\n",
       "      <td>0</td>\n",
       "      <td>0</td>\n",
       "      <td>0</td>\n",
       "      <td>0</td>\n",
       "      <td>0</td>\n",
       "      <td>0</td>\n",
       "      <td>0</td>\n",
       "      <td>0</td>\n",
       "      <td>...</td>\n",
       "      <td>0</td>\n",
       "      <td>0</td>\n",
       "      <td>0</td>\n",
       "      <td>0</td>\n",
       "      <td>0</td>\n",
       "      <td>0</td>\n",
       "      <td>0</td>\n",
       "      <td>0</td>\n",
       "      <td>0</td>\n",
       "      <td>0</td>\n",
       "    </tr>\n",
       "    <tr>\n",
       "      <th>2</th>\n",
       "      <td>1</td>\n",
       "      <td>0</td>\n",
       "      <td>0</td>\n",
       "      <td>0</td>\n",
       "      <td>0</td>\n",
       "      <td>0</td>\n",
       "      <td>0</td>\n",
       "      <td>0</td>\n",
       "      <td>0</td>\n",
       "      <td>0</td>\n",
       "      <td>...</td>\n",
       "      <td>0</td>\n",
       "      <td>0</td>\n",
       "      <td>0</td>\n",
       "      <td>0</td>\n",
       "      <td>0</td>\n",
       "      <td>0</td>\n",
       "      <td>0</td>\n",
       "      <td>0</td>\n",
       "      <td>0</td>\n",
       "      <td>0</td>\n",
       "    </tr>\n",
       "    <tr>\n",
       "      <th>3</th>\n",
       "      <td>0</td>\n",
       "      <td>0</td>\n",
       "      <td>0</td>\n",
       "      <td>0</td>\n",
       "      <td>0</td>\n",
       "      <td>0</td>\n",
       "      <td>0</td>\n",
       "      <td>0</td>\n",
       "      <td>0</td>\n",
       "      <td>0</td>\n",
       "      <td>...</td>\n",
       "      <td>0</td>\n",
       "      <td>0</td>\n",
       "      <td>0</td>\n",
       "      <td>0</td>\n",
       "      <td>0</td>\n",
       "      <td>0</td>\n",
       "      <td>0</td>\n",
       "      <td>0</td>\n",
       "      <td>0</td>\n",
       "      <td>0</td>\n",
       "    </tr>\n",
       "    <tr>\n",
       "      <th>4</th>\n",
       "      <td>4</td>\n",
       "      <td>0</td>\n",
       "      <td>0</td>\n",
       "      <td>0</td>\n",
       "      <td>0</td>\n",
       "      <td>0</td>\n",
       "      <td>0</td>\n",
       "      <td>0</td>\n",
       "      <td>0</td>\n",
       "      <td>0</td>\n",
       "      <td>...</td>\n",
       "      <td>0</td>\n",
       "      <td>0</td>\n",
       "      <td>0</td>\n",
       "      <td>0</td>\n",
       "      <td>0</td>\n",
       "      <td>0</td>\n",
       "      <td>0</td>\n",
       "      <td>0</td>\n",
       "      <td>0</td>\n",
       "      <td>0</td>\n",
       "    </tr>\n",
       "    <tr>\n",
       "      <th>5</th>\n",
       "      <td>1</td>\n",
       "      <td>0</td>\n",
       "      <td>0</td>\n",
       "      <td>0</td>\n",
       "      <td>0</td>\n",
       "      <td>0</td>\n",
       "      <td>0</td>\n",
       "      <td>0</td>\n",
       "      <td>0</td>\n",
       "      <td>0</td>\n",
       "      <td>...</td>\n",
       "      <td>0</td>\n",
       "      <td>0</td>\n",
       "      <td>0</td>\n",
       "      <td>0</td>\n",
       "      <td>0</td>\n",
       "      <td>0</td>\n",
       "      <td>0</td>\n",
       "      <td>0</td>\n",
       "      <td>0</td>\n",
       "      <td>0</td>\n",
       "    </tr>\n",
       "    <tr>\n",
       "      <th>6</th>\n",
       "      <td>4</td>\n",
       "      <td>0</td>\n",
       "      <td>0</td>\n",
       "      <td>0</td>\n",
       "      <td>0</td>\n",
       "      <td>0</td>\n",
       "      <td>0</td>\n",
       "      <td>0</td>\n",
       "      <td>0</td>\n",
       "      <td>0</td>\n",
       "      <td>...</td>\n",
       "      <td>0</td>\n",
       "      <td>0</td>\n",
       "      <td>0</td>\n",
       "      <td>0</td>\n",
       "      <td>0</td>\n",
       "      <td>0</td>\n",
       "      <td>0</td>\n",
       "      <td>0</td>\n",
       "      <td>0</td>\n",
       "      <td>0</td>\n",
       "    </tr>\n",
       "  </tbody>\n",
       "</table>\n",
       "<p>7 rows × 785 columns</p>\n",
       "</div>"
      ],
      "text/plain": [
       "   label  1x1  1x2  1x3  1x4  1x5  1x6  1x7  1x8  1x9  ...  28x19  28x20  \\\n",
       "0      7    0    0    0    0    0    0    0    0    0  ...      0      0   \n",
       "1      2    0    0    0    0    0    0    0    0    0  ...      0      0   \n",
       "2      1    0    0    0    0    0    0    0    0    0  ...      0      0   \n",
       "3      0    0    0    0    0    0    0    0    0    0  ...      0      0   \n",
       "4      4    0    0    0    0    0    0    0    0    0  ...      0      0   \n",
       "5      1    0    0    0    0    0    0    0    0    0  ...      0      0   \n",
       "6      4    0    0    0    0    0    0    0    0    0  ...      0      0   \n",
       "\n",
       "   28x21  28x22  28x23  28x24  28x25  28x26  28x27  28x28  \n",
       "0      0      0      0      0      0      0      0      0  \n",
       "1      0      0      0      0      0      0      0      0  \n",
       "2      0      0      0      0      0      0      0      0  \n",
       "3      0      0      0      0      0      0      0      0  \n",
       "4      0      0      0      0      0      0      0      0  \n",
       "5      0      0      0      0      0      0      0      0  \n",
       "6      0      0      0      0      0      0      0      0  \n",
       "\n",
       "[7 rows x 785 columns]"
      ]
     },
     "execution_count": 11,
     "metadata": {},
     "output_type": "execute_result"
    }
   ],
   "source": [
    "# concolutional neural network\n",
    "# read the data\n",
    "test = pd.read_csv(\"mnist_test.csv\")\n",
    "train = pd.read_csv(\"mnist_train.csv\")\n",
    "\n",
    "# concatane test and train data and make a whole dataset\n",
    "data = pd.concat([test, train], axis=0)\n",
    "data.head(7)"
   ]
  },
  {
   "cell_type": "code",
   "execution_count": 12,
   "id": "53e3384f",
   "metadata": {},
   "outputs": [
    {
     "name": "stdout",
     "output_type": "stream",
     "text": [
      "X data: (70000, 784)\n",
      "Y_data: (70000,)\n"
     ]
    }
   ],
   "source": [
    "# get label\n",
    "y_data = data[\"label\"]\n",
    "\n",
    "# create train dataset\n",
    "X_data = data.drop([\"label\"], axis=1)\n",
    "print(\"X data:\", X_data.shape)\n",
    "print(\"Y_data:\", y_data.shape)"
   ]
  },
  {
   "cell_type": "code",
   "execution_count": 13,
   "id": "4f1a7fa1",
   "metadata": {},
   "outputs": [
    {
     "data": {
      "image/png": "[encoded data removed]",
      "text/plain": [
       "<Figure size 1800x800 with 1 Axes>"
      ]
     },
     "metadata": {},
     "output_type": "display_data"
    },
    {
     "name": "stdout",
     "output_type": "stream",
     "text": [
      "Classes and Number of Samples: 1    7877\n",
      "7    7293\n",
      "3    7141\n",
      "2    6990\n",
      "9    6958\n",
      "0    6903\n",
      "6    6876\n",
      "8    6825\n",
      "4    6824\n",
      "5    6313\n",
      "Name: label, dtype: int64\n"
     ]
    }
   ],
   "source": [
    "# visualize number of digits classes\n",
    "plt.figure(figsize=(18,8))\n",
    "g = sns.countplot(y_data, palette=\"icefire\")\n",
    "plt.title(\"Classes\")\n",
    "plt.show()\n",
    "print(\"Classes and Number of Samples:\", y_data.value_counts())"
   ]
  },
  {
   "cell_type": "code",
   "execution_count": 14,
   "id": "db6571e9",
   "metadata": {},
   "outputs": [
    {
     "data": {
      "text/plain": [
       "28"
      ]
     },
     "execution_count": 14,
     "metadata": {},
     "output_type": "execute_result"
    }
   ],
   "source": [
    "# see picture size\n",
    "pic_size = int(np.sqrt(X_data.shape[1]))\n",
    "pic_size"
   ]
  },
  {
   "cell_type": "code",
   "execution_count": 15,
   "id": "893419a9",
   "metadata": {},
   "outputs": [
    {
     "data": {
      "image/png": "[encoded data removed]",
      "text/plain": [
       "<Figure size 640x480 with 1 Axes>"
      ]
     },
     "metadata": {},
     "output_type": "display_data"
    }
   ],
   "source": [
    "# visualize one of the picture of 5\n",
    "pic3 = X_data.iloc[4263].values\n",
    "pic3 = pic3.reshape((pic_size, pic_size))\n",
    "plt.imshow(pic3, cmap=\"gray\")\n",
    "plt.axis(\"off\")\n",
    "plt.show()"
   ]
  },
  {
   "cell_type": "code",
   "execution_count": 16,
   "id": "c2cbd233",
   "metadata": {},
   "outputs": [
    {
     "data": {
      "image/png": "[encoded data removed]",
      "text/plain": [
       "<Figure size 640x480 with 1 Axes>"
      ]
     },
     "metadata": {},
     "output_type": "display_data"
    }
   ],
   "source": [
    "# visualize one of the picture of 9\n",
    "pic4 = X_data.iloc[2387].values\n",
    "pic4 = pic4.reshape((pic_size, pic_size))\n",
    "plt.imshow(pic4, cmap=\"gray\")\n",
    "plt.axis(\"off\")\n",
    "plt.show()"
   ]
  },
  {
   "cell_type": "code",
   "execution_count": 17,
   "id": "f5a119ef",
   "metadata": {},
   "outputs": [
    {
     "name": "stdout",
     "output_type": "stream",
     "text": [
      "x data shape: (70000, 28, 28, 1)\n"
     ]
    }
   ],
   "source": [
    "# normalize the data\n",
    "X_data = X_data / 255.0\n",
    "# reshape\n",
    "X_data = X_data.values.reshape(-1, 28, 28, 1)\n",
    "print(\"x data shape:\", X_data.shape)"
   ]
  },
  {
   "cell_type": "code",
   "execution_count": 18,
   "id": "1f74eb5b",
   "metadata": {},
   "outputs": [],
   "source": [
    "# label coding\n",
    "from keras.utils.np_utils import to_categorical # for turn into a vector\n",
    "y_data = to_categorical(y_data, num_classes=10)"
   ]
  },
  {
   "cell_type": "code",
   "execution_count": 19,
   "id": "b6a83cad",
   "metadata": {},
   "outputs": [
    {
     "name": "stdout",
     "output_type": "stream",
     "text": [
      "X train dimension: (59500, 28, 28, 1)\n",
      "X test dimension: (10500, 28, 28, 1)\n",
      "y train dimension: (59500, 10)\n",
      "y test dimension: (10500, 10)\n"
     ]
    }
   ],
   "source": [
    "# split the train data and validation set for the fitting\n",
    "from sklearn.model_selection import train_test_split\n",
    "X_train, X_test, y_train, y_test = train_test_split(X_data, y_data,\n",
    "                                                    test_size=0.15,\n",
    "                                                    random_state=42)\n",
    "print(\"X train dimension:\", X_train.shape)\n",
    "print(\"X test dimension:\", X_test.shape)\n",
    "print(\"y train dimension:\", y_train.shape)\n",
    "print(\"y test dimension:\", y_test.shape)"
   ]
  },
  {
   "cell_type": "markdown",
   "id": "a0202489",
   "metadata": {},
   "source": [
    "## Build a CNN Model"
   ]
  },
  {
   "cell_type": "code",
   "execution_count": 20,
   "id": "6a8713c5",
   "metadata": {},
   "outputs": [],
   "source": [
    "# import libraries for convolutional neural network\n",
    "from sklearn.metrics import confusion_matrix\n",
    "import itertools\n",
    "from keras.utils.np_utils import to_categorical\n",
    "from keras.models import Sequential\n",
    "from keras.layers import Dense, Dropout, Flatten, Conv2D, MaxPool2D\n",
    "from keras.optimizers import RMSprop, Adam\n",
    "from keras.preprocessing.image import ImageDataGenerator\n",
    "from keras.callbacks import ReduceLROnPlateau\n",
    "\n",
    "model = Sequential()\n",
    "\n",
    "model.add(Conv2D(filters=8, kernel_size=(5, 5), padding=\"Same\",\n",
    "                activation=\"relu\", input_shape=(28, 28, 1)))\n",
    "model.add(MaxPool2D(pool_size=(2, 2)))\n",
    "model.add(Dropout(0.25))\n",
    "\n",
    "model.add(Conv2D(filters=16, kernel_size=(3, 3), padding=\"Same\",\n",
    "                activation=\"relu\"))\n",
    "model.add(MaxPool2D(pool_size=(2, 2), strides=(2, 2)))\n",
    "model.add(Dropout(0.25))\n",
    "# full connect\n",
    "model.add(Flatten())\n",
    "model.add(Dense(256, activation=\"relu\"))\n",
    "model.add(Dropout(0.5))\n",
    "model.add(Dense(10, activation=\"softmax\"))"
   ]
  },
  {
   "cell_type": "code",
   "execution_count": 21,
   "id": "cb91a79d",
   "metadata": {},
   "outputs": [],
   "source": [
    "# for optimizer\n",
    "optimizer = Adam(lr=0.001, beta_1=0.9, beta_2=0.999)"
   ]
  },
  {
   "cell_type": "code",
   "execution_count": 22,
   "id": "eafe8958",
   "metadata": {},
   "outputs": [],
   "source": [
    "model.compile(optimizer=optimizer, loss=\"categorical_crossentropy\",\n",
    "              metrics=[\"accuracy\"])"
   ]
  },
  {
   "cell_type": "code",
   "execution_count": 23,
   "id": "308a29ee",
   "metadata": {},
   "outputs": [],
   "source": [
    "epochs = 10\n",
    "batch_size = 250"
   ]
  },
  {
   "cell_type": "code",
   "execution_count": 24,
   "id": "9b479e53",
   "metadata": {},
   "outputs": [],
   "source": [
    "# data augmentation\n",
    "datagen = ImageDataGenerator(featurewise_center=False,  # girdi ortalamasını veri kümesi üzerinden 0 olarak ayarlar\n",
    "                             samplewise_center=False,  # her bir örnek ortalamasını 0 olarak ayarlar\n",
    "                             featurewise_std_normalization=False,  # girdileri veri kümesinin standartlarına böl\n",
    "                             samplewise_std_normalization=False,  # her girdiyi std'ye böl\n",
    "                             zca_whitening=False,  # dimension reduction\n",
    "                             rotation_range=5,  # rotation\n",
    "                             zoom_range=0.1,  # % 10 görüntüyü rastgele yakınlaştırır\n",
    "                             width_shift_range=0.1,  # görüntüleri yatay olarak rastgele kaydır %10\n",
    "                             height_shift_range=0.1,  # görüntüleri dikey olarak rastgele kaydır %10\n",
    "                             horizontal_flip=False,  # görüntüleri yatay olarak rastgele çevir\n",
    "                             vertical_flip=False)  # görüntüleri dikey olarak rastgele çevir\n",
    "datagen.fit(X_train)"
   ]
  },
  {
   "cell_type": "markdown",
   "id": "328721d7",
   "metadata": {},
   "source": [
    "## Train the CNN Model"
   ]
  },
  {
   "cell_type": "code",
   "execution_count": 25,
   "id": "e5c58cad",
   "metadata": {},
   "outputs": [
    {
     "name": "stdout",
     "output_type": "stream",
     "text": [
      "Epoch 1/10\n",
      "238/238 - 54s - loss: 0.8777 - accuracy: 0.7113 - val_loss: 0.1414 - val_accuracy: 0.9578 - 54s/epoch - 227ms/step\n",
      "Epoch 2/10\n",
      "238/238 - 54s - loss: 0.3317 - accuracy: 0.8963 - val_loss: 0.0925 - val_accuracy: 0.9739 - 54s/epoch - 227ms/step\n",
      "Epoch 3/10\n",
      "238/238 - 52s - loss: 0.2522 - accuracy: 0.9211 - val_loss: 0.0715 - val_accuracy: 0.9795 - 52s/epoch - 218ms/step\n",
      "Epoch 4/10\n",
      "238/238 - 55s - loss: 0.2191 - accuracy: 0.9315 - val_loss: 0.0625 - val_accuracy: 0.9812 - 55s/epoch - 231ms/step\n",
      "Epoch 5/10\n",
      "238/238 - 51s - loss: 0.1898 - accuracy: 0.9419 - val_loss: 0.0514 - val_accuracy: 0.9844 - 51s/epoch - 215ms/step\n",
      "Epoch 6/10\n",
      "238/238 - 54s - loss: 0.1729 - accuracy: 0.9469 - val_loss: 0.0481 - val_accuracy: 0.9859 - 54s/epoch - 227ms/step\n",
      "Epoch 7/10\n",
      "238/238 - 52s - loss: 0.1614 - accuracy: 0.9497 - val_loss: 0.0453 - val_accuracy: 0.9869 - 52s/epoch - 217ms/step\n",
      "Epoch 8/10\n",
      "238/238 - 49s - loss: 0.1499 - accuracy: 0.9532 - val_loss: 0.0406 - val_accuracy: 0.9881 - 49s/epoch - 206ms/step\n",
      "Epoch 9/10\n",
      "238/238 - 48s - loss: 0.1422 - accuracy: 0.9570 - val_loss: 0.0403 - val_accuracy: 0.9861 - 48s/epoch - 202ms/step\n",
      "Epoch 10/10\n",
      "238/238 - 49s - loss: 0.1364 - accuracy: 0.9573 - val_loss: 0.0367 - val_accuracy: 0.9890 - 49s/epoch - 204ms/step\n"
     ]
    }
   ],
   "source": [
    "# train the model\n",
    "history = model.fit_generator(datagen.flow(X_train, y_train,\n",
    "                                           batch_size=batch_size),\n",
    "                                           epochs=epochs,\n",
    "                                          validation_data=(X_test, y_test),\n",
    "                                          steps_per_epoch=X_train.shape[0] // batch_size,\n",
    "                                          verbose=2)"
   ]
  },
  {
   "cell_type": "markdown",
   "id": "37d52208",
   "metadata": {},
   "source": [
    "## Results"
   ]
  },
  {
   "cell_type": "code",
   "execution_count": 26,
   "id": "0e947c5b",
   "metadata": {},
   "outputs": [
    {
     "data": {
      "image/png": "[encoded data removed]",
      "text/plain": [
       "<Figure size 640x480 with 1 Axes>"
      ]
     },
     "metadata": {},
     "output_type": "display_data"
    }
   ],
   "source": [
    "# cost visualization\n",
    "plt.plot(history.history[\"val_loss\"], color=\"b\")\n",
    "plt.title(\"Test Cost\")\n",
    "plt.xlabel(\"Iteration\")\n",
    "plt.ylabel(\"Cost\")\n",
    "plt.show()"
   ]
  },
  {
   "cell_type": "code",
   "execution_count": 27,
   "id": "e0ad0322",
   "metadata": {},
   "outputs": [
    {
     "name": "stdout",
     "output_type": "stream",
     "text": [
      "329/329 [==============================] - 3s 8ms/step\n"
     ]
    },
    {
     "data": {
      "image/png": "[encoded data removed]",
      "text/plain": [
       "<Figure size 1000x800 with 2 Axes>"
      ]
     },
     "metadata": {},
     "output_type": "display_data"
    }
   ],
   "source": [
    "# predict\n",
    "y_pred = model.predict(X_test)\n",
    "\n",
    "y_pred_classes = np.argmax(y_pred, axis=1)\n",
    "\n",
    "y_true = np.argmax(y_test, axis=1)\n",
    "\n",
    "confusion_mtx = confusion_matrix(y_true, y_pred_classes)\n",
    "\n",
    "f, ax = plt.subplots(figsize=(10,8))\n",
    "sns.heatmap(confusion_mtx, annot=True, linewidths=0.01,\n",
    "            cmap=\"Greens\", linecolor=\"gray\", fmt=\".1f\", ax=ax)\n",
    "plt.xlabel(\"Label Predictions\")\n",
    "plt.ylabel(\"True Label\")\n",
    "plt.title(\"Confusion Matrix\")\n",
    "plt.show()"
   ]
  },
  {
   "cell_type": "markdown",
   "id": "37f5e987",
   "metadata": {},
   "source": [
    "# Forecasting Numbers of Airline Passengers"
   ]
  },
  {
   "cell_type": "markdown",
   "id": "5e86fda7",
   "metadata": {},
   "source": [
    "## Fetch Passengers Data"
   ]
  },
  {
   "cell_type": "code",
   "execution_count": 28,
   "id": "a6e63a8b",
   "metadata": {},
   "outputs": [],
   "source": [
    "# import libraries\n",
    "import numpy as np\n",
    "import matplotlib.pyplot as plt\n",
    "import pandas as pd\n",
    "import warnings \n",
    "warnings.filterwarnings(\"ignore\")"
   ]
  },
  {
   "cell_type": "code",
   "execution_count": 29,
   "id": "d5928116",
   "metadata": {},
   "outputs": [
    {
     "data": {
      "text/html": [
       "<div>\n",
       "<style scoped>\n",
       "    .dataframe tbody tr th:only-of-type {\n",
       "        vertical-align: middle;\n",
       "    }\n",
       "\n",
       "    .dataframe tbody tr th {\n",
       "        vertical-align: top;\n",
       "    }\n",
       "\n",
       "    .dataframe thead th {\n",
       "        text-align: right;\n",
       "    }\n",
       "</style>\n",
       "<table border=\"1\" class=\"dataframe\">\n",
       "  <thead>\n",
       "    <tr style=\"text-align: right;\">\n",
       "      <th></th>\n",
       "      <th>Month</th>\n",
       "      <th>Passengers</th>\n",
       "    </tr>\n",
       "  </thead>\n",
       "  <tbody>\n",
       "    <tr>\n",
       "      <th>0</th>\n",
       "      <td>1949-01</td>\n",
       "      <td>112</td>\n",
       "    </tr>\n",
       "    <tr>\n",
       "      <th>1</th>\n",
       "      <td>1949-02</td>\n",
       "      <td>118</td>\n",
       "    </tr>\n",
       "    <tr>\n",
       "      <th>2</th>\n",
       "      <td>1949-03</td>\n",
       "      <td>132</td>\n",
       "    </tr>\n",
       "    <tr>\n",
       "      <th>3</th>\n",
       "      <td>1949-04</td>\n",
       "      <td>129</td>\n",
       "    </tr>\n",
       "    <tr>\n",
       "      <th>4</th>\n",
       "      <td>1949-05</td>\n",
       "      <td>121</td>\n",
       "    </tr>\n",
       "  </tbody>\n",
       "</table>\n",
       "</div>"
      ],
      "text/plain": [
       "     Month  Passengers\n",
       "0  1949-01         112\n",
       "1  1949-02         118\n",
       "2  1949-03         132\n",
       "3  1949-04         129\n",
       "4  1949-05         121"
      ]
     },
     "execution_count": 29,
     "metadata": {},
     "output_type": "execute_result"
    }
   ],
   "source": [
    "# read the data\n",
    "data = pd.read_csv(\"airline-passengers.csv\")\n",
    "data.head()"
   ]
  },
  {
   "cell_type": "code",
   "execution_count": 30,
   "id": "9d0e228e",
   "metadata": {},
   "outputs": [
    {
     "data": {
      "image/png": "[encoded data removed]",
      "text/plain": [
       "<Figure size 640x480 with 1 Axes>"
      ]
     },
     "metadata": {},
     "output_type": "display_data"
    }
   ],
   "source": [
    "# visualize the data\n",
    "data = data.iloc[:, 1].values\n",
    "plt.plot(data)\n",
    "plt.xlabel(\"Time\")\n",
    "plt.ylabel(\"Number of Passengers\")\n",
    "plt.title(\"International Airline Passengers\")\n",
    "plt.show()"
   ]
  },
  {
   "cell_type": "markdown",
   "id": "05406939",
   "metadata": {},
   "source": [
    "## Preprocessing"
   ]
  },
  {
   "cell_type": "code",
   "execution_count": 31,
   "id": "973ecee5",
   "metadata": {},
   "outputs": [
    {
     "data": {
      "text/plain": [
       "(144, 1)"
      ]
     },
     "execution_count": 31,
     "metadata": {},
     "output_type": "execute_result"
    }
   ],
   "source": [
    "# change the data shape and type\n",
    "data = data.reshape(-1,1)\n",
    "data = data.astype(\"float32\")\n",
    "data.shape"
   ]
  },
  {
   "cell_type": "code",
   "execution_count": 32,
   "id": "4f89e6e0",
   "metadata": {},
   "outputs": [
    {
     "data": {
      "text/plain": [
       "array([[0.01544401],\n",
       "       [0.02702703],\n",
       "       [0.05405405],\n",
       "       [0.04826255]], dtype=float32)"
      ]
     },
     "execution_count": 32,
     "metadata": {},
     "output_type": "execute_result"
    }
   ],
   "source": [
    "# normalize the data\n",
    "from sklearn.preprocessing import MinMaxScaler\n",
    "scaler = MinMaxScaler(feature_range=(0,1))\n",
    "data_scaled = scaler.fit_transform(data)\n",
    "data_scaled[: 4]"
   ]
  },
  {
   "cell_type": "code",
   "execution_count": 33,
   "id": "e16345aa",
   "metadata": {},
   "outputs": [
    {
     "name": "stdout",
     "output_type": "stream",
     "text": [
      "Train size: 86, Test size: 58\n"
     ]
    }
   ],
   "source": [
    "# split the data train and test\n",
    "train_len = int(len(data) * 0.60)\n",
    "test_lem = len(data) - train_len\n",
    "\n",
    "train = data_scaled[0: train_len, :]\n",
    "test = data_scaled[train_len:len(data), :]\n",
    "print(\"Train size: {}, Test size: {}\".format(len(train), len(test)))"
   ]
  },
  {
   "cell_type": "code",
   "execution_count": 34,
   "id": "d7a9dcf1",
   "metadata": {},
   "outputs": [],
   "source": [
    "# shape the train data \n",
    "time_stemp = 10\n",
    "dataX = []\n",
    "dataY = []\n",
    "for i in range(len(train) - time_stemp - 1):\n",
    "    a = train[i : (i + time_stemp), 0]\n",
    "    dataX.append(a)\n",
    "    dataY.append(train[i + time_stemp, 0])\n",
    "trainX = np.array(dataX)\n",
    "trainY = np.array(dataY)"
   ]
  },
  {
   "cell_type": "code",
   "execution_count": 35,
   "id": "496c72bf",
   "metadata": {},
   "outputs": [],
   "source": [
    "# shape the test data \n",
    "dataX = []\n",
    "dataY = []\n",
    "for i in range(len(test) - time_stemp - 1):\n",
    "    a = test[i : (i + time_stemp), 0]\n",
    "    dataX.append(a)\n",
    "    dataY.append(test[i + time_stemp, 0])\n",
    "testX = np.array(dataX)\n",
    "testY = np.array(dataY)"
   ]
  },
  {
   "cell_type": "code",
   "execution_count": 36,
   "id": "f2fea625",
   "metadata": {},
   "outputs": [
    {
     "name": "stdout",
     "output_type": "stream",
     "text": [
      "trainX shape: (75, 10, 1)\n",
      "testX shape (47, 10, 1)\n"
     ]
    }
   ],
   "source": [
    "# arrange the shape of test and train data and make suitable for keras\n",
    "trainX = np.reshape(trainX, (trainX.shape[0], trainX.shape[1], 1))\n",
    "testX = np.reshape(testX, (testX.shape[0], testX.shape[1], 1))\n",
    "print(\"trainX shape:\", trainX.shape)\n",
    "print(\"testX shape\", testX.shape)"
   ]
  },
  {
   "cell_type": "markdown",
   "id": "963e2607",
   "metadata": {},
   "source": [
    "## Build a RNN Model and Train the Model"
   ]
  },
  {
   "cell_type": "code",
   "execution_count": 37,
   "id": "bfe0d1fc",
   "metadata": {},
   "outputs": [
    {
     "data": {
      "text/plain": [
       "<keras.callbacks.History at 0x145d4fc4400>"
      ]
     },
     "execution_count": 37,
     "metadata": {},
     "output_type": "execute_result"
    }
   ],
   "source": [
    "# Create RNN model\n",
    "# import keras libraries\n",
    "from keras.models import Sequential\n",
    "from keras.layers import Dense, SimpleRNN, Dropout\n",
    "\n",
    "regressor = Sequential()\n",
    "# input layer \n",
    "regressor.add(SimpleRNN(units = 120, activation=\"relu\", return_sequences=True,\n",
    "                       input_shape=(trainX.shape[1], 1)))\n",
    "regressor.add(Dropout(0.2))\n",
    "# layer 2\n",
    "regressor.add(SimpleRNN(units = 80, activation=\"relu\", return_sequences=True))\n",
    "regressor.add(Dropout(0.2))\n",
    "# layer 3\n",
    "regressor.add(SimpleRNN(units = 40, activation=\"relu\", return_sequences=True,\n",
    "                       input_shape=(trainX.shape[1], 1)))\n",
    "regressor.add(Dropout(0.2))\n",
    "# layer 4\n",
    "regressor.add(SimpleRNN(units = 20, activation=\"relu\", return_sequences=True,\n",
    "                       input_shape=(trainX.shape[1], 1)))\n",
    "regressor.add(Dropout(0.2))\n",
    "# layer 5\n",
    "regressor.add(SimpleRNN(units = 10))\n",
    "regressor.add(Dropout(0.2))\n",
    "# output layer\n",
    "regressor.add(Dense(units=1))\n",
    "\n",
    "# compile model\n",
    "regressor.compile(optimizer=\"adam\", loss=\"mean_squared_error\")\n",
    "\n",
    "# train the model\n",
    "regressor.fit(trainX, trainY, epochs=250, batch_size=50, verbose=0)"
   ]
  },
  {
   "cell_type": "markdown",
   "id": "1a657adb",
   "metadata": {},
   "source": [
    "## Results"
   ]
  },
  {
   "cell_type": "code",
   "execution_count": 38,
   "id": "0ceb73e8",
   "metadata": {},
   "outputs": [
    {
     "name": "stdout",
     "output_type": "stream",
     "text": [
      "3/3 [==============================] - 1s 11ms/step\n",
      "2/2 [==============================] - 0s 10ms/step\n"
     ]
    }
   ],
   "source": [
    "# evaluate model\n",
    "import math\n",
    "from sklearn.metrics import mean_squared_error\n",
    "\n",
    "trainPredict = regressor.predict(trainX)\n",
    "testPredict = regressor.predict(testX)\n",
    "\n",
    "# reverse the normalized data\n",
    "trainPredict = scaler.inverse_transform(trainPredict)\n",
    "trainY = scaler.inverse_transform([trainY])\n",
    "testPredict = scaler.inverse_transform(testPredict)\n",
    "testY = scaler.inverse_transform([testY])"
   ]
  },
  {
   "cell_type": "code",
   "execution_count": 39,
   "id": "bd817b5f",
   "metadata": {},
   "outputs": [
    {
     "name": "stdout",
     "output_type": "stream",
     "text": [
      "Train score: 16.590 RMSE\n",
      "Test score: 56.113 RMSE\n"
     ]
    }
   ],
   "source": [
    "# mean squared error\n",
    "trainScore = math.sqrt(mean_squared_error(trainY[0], trainPredict[ : , 0]))\n",
    "print(\"Train score: %.3f RMSE\" % (trainScore))\n",
    "testScore = math.sqrt(mean_squared_error(testY[0], testPredict[ : , 0]))\n",
    "print(\"Test score: %.3f RMSE\" % (testScore))"
   ]
  },
  {
   "cell_type": "code",
   "execution_count": 40,
   "id": "9afe1cb7",
   "metadata": {},
   "outputs": [
    {
     "data": {
      "image/png": "[encoded data removed]",
      "text/plain": [
       "<Figure size 640x480 with 1 Axes>"
      ]
     },
     "metadata": {},
     "output_type": "display_data"
    }
   ],
   "source": [
    "# scroll the train data\n",
    "trainPredictPlot = np.empty_like(data)\n",
    "trainPredictPlot[:, :] = np.nan\n",
    "trainPredictPlot[time_stemp: len(trainPredict) + time_stemp, :] = trainPredict\n",
    "\n",
    "#  scroll the test data\n",
    "testPredictPlot = np.empty_like(data)\n",
    "testPredictPlot[:, :] = np.nan\n",
    "testPredictPlot[len(trainPredict) + (time_stemp * 2) + 1 : len(data) - 1, :] = testPredict\n",
    "\n",
    "# visualize\n",
    "plt.plot(scaler.inverse_transform(data_scaled), color=\"b\", label=\"True\")\n",
    "plt.plot(trainPredictPlot, color=\"r\", label=\"Train\")\n",
    "plt.plot(testPredictPlot, color=\"g\", label=\"Test\")\n",
    "plt.legend()\n",
    "plt.show()"
   ]
  }
 ],
 "metadata": {
  "kernelspec": {
   "display_name": "Python 3 (ipykernel)",
   "language": "python",
   "name": "python3"
  },
  "language_info": {
   "codemirror_mode": {
    "name": "ipython",
    "version": 3
   },
   "file_extension": ".py",
   "mimetype": "text/x-python",
   "name": "python",
   "nbconvert_exporter": "python",
   "pygments_lexer": "ipython3",
   "version": "3.10.6"
  }
 },
 "nbformat": 4,
 "nbformat_minor": 5
}
